{
  "cells": [
    {
      "cell_type": "markdown",
      "metadata": {
        "id": "view-in-github",
        "colab_type": "text"
      },
      "source": [
        "<a href=\"https://colab.research.google.com/github/mouradanas/ViceKeeper-Assessment/blob/main/Analyzing_Retail_Sales_Performance.ipynb\" target=\"_parent\"><img src=\"https://colab.research.google.com/assets/colab-badge.svg\" alt=\"Open In Colab\"/></a>"
      ]
    },
    {
      "cell_type": "markdown",
      "metadata": {
        "id": "sjx-mTVY8Omq"
      },
      "source": [
        "# **Analyzing Retail Sales Performance**\n",
        "# **Overview**\n",
        "\n",
        "---\n",
        "\n",
        "\n",
        "This document outlines the analysis of the provided sales dataset (Test Dataset) to understand performance across regions, product categories, and time periods."
      ]
    },
    {
      "cell_type": "markdown",
      "metadata": {
        "id": "pxtaJELJ9dNB"
      },
      "source": [
        "# 1. ***Upload and Load the Test Dataset***\n",
        "\n",
        "Here we use pandas library to help us load the test dataset into our collab workspace"
      ]
    },
    {
      "cell_type": "code",
      "execution_count": 1,
      "metadata": {
        "colab": {
          "base_uri": "https://localhost:8080/",
          "height": 365
        },
        "id": "p-U5w3v67Ui8",
        "outputId": "6206f831-99f6-4903-f9a0-1ca40104c173"
      },
      "outputs": [
        {
          "output_type": "display_data",
          "data": {
            "text/plain": [
              "<IPython.core.display.HTML object>"
            ],
            "text/html": [
              "\n",
              "     <input type=\"file\" id=\"files-fe0cebfb-f005-44b5-bf06-a2523b0e5215\" name=\"files[]\" multiple disabled\n",
              "        style=\"border:none\" />\n",
              "     <output id=\"result-fe0cebfb-f005-44b5-bf06-a2523b0e5215\">\n",
              "      Upload widget is only available when the cell has been executed in the\n",
              "      current browser session. Please rerun this cell to enable.\n",
              "      </output>\n",
              "      <script>// Copyright 2017 Google LLC\n",
              "//\n",
              "// Licensed under the Apache License, Version 2.0 (the \"License\");\n",
              "// you may not use this file except in compliance with the License.\n",
              "// You may obtain a copy of the License at\n",
              "//\n",
              "//      http://www.apache.org/licenses/LICENSE-2.0\n",
              "//\n",
              "// Unless required by applicable law or agreed to in writing, software\n",
              "// distributed under the License is distributed on an \"AS IS\" BASIS,\n",
              "// WITHOUT WARRANTIES OR CONDITIONS OF ANY KIND, either express or implied.\n",
              "// See the License for the specific language governing permissions and\n",
              "// limitations under the License.\n",
              "\n",
              "/**\n",
              " * @fileoverview Helpers for google.colab Python module.\n",
              " */\n",
              "(function(scope) {\n",
              "function span(text, styleAttributes = {}) {\n",
              "  const element = document.createElement('span');\n",
              "  element.textContent = text;\n",
              "  for (const key of Object.keys(styleAttributes)) {\n",
              "    element.style[key] = styleAttributes[key];\n",
              "  }\n",
              "  return element;\n",
              "}\n",
              "\n",
              "// Max number of bytes which will be uploaded at a time.\n",
              "const MAX_PAYLOAD_SIZE = 100 * 1024;\n",
              "\n",
              "function _uploadFiles(inputId, outputId) {\n",
              "  const steps = uploadFilesStep(inputId, outputId);\n",
              "  const outputElement = document.getElementById(outputId);\n",
              "  // Cache steps on the outputElement to make it available for the next call\n",
              "  // to uploadFilesContinue from Python.\n",
              "  outputElement.steps = steps;\n",
              "\n",
              "  return _uploadFilesContinue(outputId);\n",
              "}\n",
              "\n",
              "// This is roughly an async generator (not supported in the browser yet),\n",
              "// where there are multiple asynchronous steps and the Python side is going\n",
              "// to poll for completion of each step.\n",
              "// This uses a Promise to block the python side on completion of each step,\n",
              "// then passes the result of the previous step as the input to the next step.\n",
              "function _uploadFilesContinue(outputId) {\n",
              "  const outputElement = document.getElementById(outputId);\n",
              "  const steps = outputElement.steps;\n",
              "\n",
              "  const next = steps.next(outputElement.lastPromiseValue);\n",
              "  return Promise.resolve(next.value.promise).then((value) => {\n",
              "    // Cache the last promise value to make it available to the next\n",
              "    // step of the generator.\n",
              "    outputElement.lastPromiseValue = value;\n",
              "    return next.value.response;\n",
              "  });\n",
              "}\n",
              "\n",
              "/**\n",
              " * Generator function which is called between each async step of the upload\n",
              " * process.\n",
              " * @param {string} inputId Element ID of the input file picker element.\n",
              " * @param {string} outputId Element ID of the output display.\n",
              " * @return {!Iterable<!Object>} Iterable of next steps.\n",
              " */\n",
              "function* uploadFilesStep(inputId, outputId) {\n",
              "  const inputElement = document.getElementById(inputId);\n",
              "  inputElement.disabled = false;\n",
              "\n",
              "  const outputElement = document.getElementById(outputId);\n",
              "  outputElement.innerHTML = '';\n",
              "\n",
              "  const pickedPromise = new Promise((resolve) => {\n",
              "    inputElement.addEventListener('change', (e) => {\n",
              "      resolve(e.target.files);\n",
              "    });\n",
              "  });\n",
              "\n",
              "  const cancel = document.createElement('button');\n",
              "  inputElement.parentElement.appendChild(cancel);\n",
              "  cancel.textContent = 'Cancel upload';\n",
              "  const cancelPromise = new Promise((resolve) => {\n",
              "    cancel.onclick = () => {\n",
              "      resolve(null);\n",
              "    };\n",
              "  });\n",
              "\n",
              "  // Wait for the user to pick the files.\n",
              "  const files = yield {\n",
              "    promise: Promise.race([pickedPromise, cancelPromise]),\n",
              "    response: {\n",
              "      action: 'starting',\n",
              "    }\n",
              "  };\n",
              "\n",
              "  cancel.remove();\n",
              "\n",
              "  // Disable the input element since further picks are not allowed.\n",
              "  inputElement.disabled = true;\n",
              "\n",
              "  if (!files) {\n",
              "    return {\n",
              "      response: {\n",
              "        action: 'complete',\n",
              "      }\n",
              "    };\n",
              "  }\n",
              "\n",
              "  for (const file of files) {\n",
              "    const li = document.createElement('li');\n",
              "    li.append(span(file.name, {fontWeight: 'bold'}));\n",
              "    li.append(span(\n",
              "        `(${file.type || 'n/a'}) - ${file.size} bytes, ` +\n",
              "        `last modified: ${\n",
              "            file.lastModifiedDate ? file.lastModifiedDate.toLocaleDateString() :\n",
              "                                    'n/a'} - `));\n",
              "    const percent = span('0% done');\n",
              "    li.appendChild(percent);\n",
              "\n",
              "    outputElement.appendChild(li);\n",
              "\n",
              "    const fileDataPromise = new Promise((resolve) => {\n",
              "      const reader = new FileReader();\n",
              "      reader.onload = (e) => {\n",
              "        resolve(e.target.result);\n",
              "      };\n",
              "      reader.readAsArrayBuffer(file);\n",
              "    });\n",
              "    // Wait for the data to be ready.\n",
              "    let fileData = yield {\n",
              "      promise: fileDataPromise,\n",
              "      response: {\n",
              "        action: 'continue',\n",
              "      }\n",
              "    };\n",
              "\n",
              "    // Use a chunked sending to avoid message size limits. See b/62115660.\n",
              "    let position = 0;\n",
              "    do {\n",
              "      const length = Math.min(fileData.byteLength - position, MAX_PAYLOAD_SIZE);\n",
              "      const chunk = new Uint8Array(fileData, position, length);\n",
              "      position += length;\n",
              "\n",
              "      const base64 = btoa(String.fromCharCode.apply(null, chunk));\n",
              "      yield {\n",
              "        response: {\n",
              "          action: 'append',\n",
              "          file: file.name,\n",
              "          data: base64,\n",
              "        },\n",
              "      };\n",
              "\n",
              "      let percentDone = fileData.byteLength === 0 ?\n",
              "          100 :\n",
              "          Math.round((position / fileData.byteLength) * 100);\n",
              "      percent.textContent = `${percentDone}% done`;\n",
              "\n",
              "    } while (position < fileData.byteLength);\n",
              "  }\n",
              "\n",
              "  // All done.\n",
              "  yield {\n",
              "    response: {\n",
              "      action: 'complete',\n",
              "    }\n",
              "  };\n",
              "}\n",
              "\n",
              "scope.google = scope.google || {};\n",
              "scope.google.colab = scope.google.colab || {};\n",
              "scope.google.colab._files = {\n",
              "  _uploadFiles,\n",
              "  _uploadFilesContinue,\n",
              "};\n",
              "})(self);\n",
              "</script> "
            ]
          },
          "metadata": {}
        },
        {
          "output_type": "stream",
          "name": "stdout",
          "text": [
            "Saving Test data.xlsx to Test data (1).xlsx\n"
          ]
        },
        {
          "output_type": "execute_result",
          "data": {
            "text/plain": [
              "   Order ID Region Product Category  Sales Amount    Cost  Profit Order Date  \\\n",
              "0    1001.0  North      Electronics        1500.0  1000.0   500.0 2023-06-01   \n",
              "1    1002.0  South        Furniture         800.0   600.0   200.0 2023-06-03   \n",
              "2    1003.0   East      Electronics        1200.0   900.0   300.0 2023-06-05   \n",
              "3    1004.0   West  Office Supplies         600.0   450.0   150.0 2023-06-10   \n",
              "4    1005.0  North        Furniture         500.0   300.0   200.0 2023-06-12   \n",
              "\n",
              "  Customer Segment  Unnamed: 8  \\\n",
              "0        Corporate         NaN   \n",
              "1   Small Business         NaN   \n",
              "2        Corporate         NaN   \n",
              "3         Consumer         NaN   \n",
              "4         Consumer         NaN   \n",
              "\n",
              "                                 Data Summarization:  Unnamed: 10  \\\n",
              "0  1- Summarize the total sales, total profit, an...          NaN   \n",
              "1                                             Region  Total Sales   \n",
              "2                                              North         4800   \n",
              "3                                               West         4100   \n",
              "4                                              South         3700   \n",
              "\n",
              "    Unnamed: 11    Unnamed: 12  Unnamed: 13  \n",
              "0           NaN            NaN          NaN  \n",
              "1  Total Profit  Average Sales      Column1  \n",
              "2          1350           1200       5137.5  \n",
              "3           950        1366.67  4416.666667  \n",
              "4           800        1233.33  3966.666667  "
            ],
            "text/html": [
              "\n",
              "  <div id=\"df-a0ad60c2-4197-45a9-b322-bb95e892b4b8\" class=\"colab-df-container\">\n",
              "    <div>\n",
              "<style scoped>\n",
              "    .dataframe tbody tr th:only-of-type {\n",
              "        vertical-align: middle;\n",
              "    }\n",
              "\n",
              "    .dataframe tbody tr th {\n",
              "        vertical-align: top;\n",
              "    }\n",
              "\n",
              "    .dataframe thead th {\n",
              "        text-align: right;\n",
              "    }\n",
              "</style>\n",
              "<table border=\"1\" class=\"dataframe\">\n",
              "  <thead>\n",
              "    <tr style=\"text-align: right;\">\n",
              "      <th></th>\n",
              "      <th>Order ID</th>\n",
              "      <th>Region</th>\n",
              "      <th>Product Category</th>\n",
              "      <th>Sales Amount</th>\n",
              "      <th>Cost</th>\n",
              "      <th>Profit</th>\n",
              "      <th>Order Date</th>\n",
              "      <th>Customer Segment</th>\n",
              "      <th>Unnamed: 8</th>\n",
              "      <th>Data Summarization:</th>\n",
              "      <th>Unnamed: 10</th>\n",
              "      <th>Unnamed: 11</th>\n",
              "      <th>Unnamed: 12</th>\n",
              "      <th>Unnamed: 13</th>\n",
              "    </tr>\n",
              "  </thead>\n",
              "  <tbody>\n",
              "    <tr>\n",
              "      <th>0</th>\n",
              "      <td>1001.0</td>\n",
              "      <td>North</td>\n",
              "      <td>Electronics</td>\n",
              "      <td>1500.0</td>\n",
              "      <td>1000.0</td>\n",
              "      <td>500.0</td>\n",
              "      <td>2023-06-01</td>\n",
              "      <td>Corporate</td>\n",
              "      <td>NaN</td>\n",
              "      <td>1- Summarize the total sales, total profit, an...</td>\n",
              "      <td>NaN</td>\n",
              "      <td>NaN</td>\n",
              "      <td>NaN</td>\n",
              "      <td>NaN</td>\n",
              "    </tr>\n",
              "    <tr>\n",
              "      <th>1</th>\n",
              "      <td>1002.0</td>\n",
              "      <td>South</td>\n",
              "      <td>Furniture</td>\n",
              "      <td>800.0</td>\n",
              "      <td>600.0</td>\n",
              "      <td>200.0</td>\n",
              "      <td>2023-06-03</td>\n",
              "      <td>Small Business</td>\n",
              "      <td>NaN</td>\n",
              "      <td>Region</td>\n",
              "      <td>Total Sales</td>\n",
              "      <td>Total Profit</td>\n",
              "      <td>Average Sales</td>\n",
              "      <td>Column1</td>\n",
              "    </tr>\n",
              "    <tr>\n",
              "      <th>2</th>\n",
              "      <td>1003.0</td>\n",
              "      <td>East</td>\n",
              "      <td>Electronics</td>\n",
              "      <td>1200.0</td>\n",
              "      <td>900.0</td>\n",
              "      <td>300.0</td>\n",
              "      <td>2023-06-05</td>\n",
              "      <td>Corporate</td>\n",
              "      <td>NaN</td>\n",
              "      <td>North</td>\n",
              "      <td>4800</td>\n",
              "      <td>1350</td>\n",
              "      <td>1200</td>\n",
              "      <td>5137.5</td>\n",
              "    </tr>\n",
              "    <tr>\n",
              "      <th>3</th>\n",
              "      <td>1004.0</td>\n",
              "      <td>West</td>\n",
              "      <td>Office Supplies</td>\n",
              "      <td>600.0</td>\n",
              "      <td>450.0</td>\n",
              "      <td>150.0</td>\n",
              "      <td>2023-06-10</td>\n",
              "      <td>Consumer</td>\n",
              "      <td>NaN</td>\n",
              "      <td>West</td>\n",
              "      <td>4100</td>\n",
              "      <td>950</td>\n",
              "      <td>1366.67</td>\n",
              "      <td>4416.666667</td>\n",
              "    </tr>\n",
              "    <tr>\n",
              "      <th>4</th>\n",
              "      <td>1005.0</td>\n",
              "      <td>North</td>\n",
              "      <td>Furniture</td>\n",
              "      <td>500.0</td>\n",
              "      <td>300.0</td>\n",
              "      <td>200.0</td>\n",
              "      <td>2023-06-12</td>\n",
              "      <td>Consumer</td>\n",
              "      <td>NaN</td>\n",
              "      <td>South</td>\n",
              "      <td>3700</td>\n",
              "      <td>800</td>\n",
              "      <td>1233.33</td>\n",
              "      <td>3966.666667</td>\n",
              "    </tr>\n",
              "  </tbody>\n",
              "</table>\n",
              "</div>\n",
              "    <div class=\"colab-df-buttons\">\n",
              "\n",
              "  <div class=\"colab-df-container\">\n",
              "    <button class=\"colab-df-convert\" onclick=\"convertToInteractive('df-a0ad60c2-4197-45a9-b322-bb95e892b4b8')\"\n",
              "            title=\"Convert this dataframe to an interactive table.\"\n",
              "            style=\"display:none;\">\n",
              "\n",
              "  <svg xmlns=\"http://www.w3.org/2000/svg\" height=\"24px\" viewBox=\"0 -960 960 960\">\n",
              "    <path d=\"M120-120v-720h720v720H120Zm60-500h600v-160H180v160Zm220 220h160v-160H400v160Zm0 220h160v-160H400v160ZM180-400h160v-160H180v160Zm440 0h160v-160H620v160ZM180-180h160v-160H180v160Zm440 0h160v-160H620v160Z\"/>\n",
              "  </svg>\n",
              "    </button>\n",
              "\n",
              "  <style>\n",
              "    .colab-df-container {\n",
              "      display:flex;\n",
              "      gap: 12px;\n",
              "    }\n",
              "\n",
              "    .colab-df-convert {\n",
              "      background-color: #E8F0FE;\n",
              "      border: none;\n",
              "      border-radius: 50%;\n",
              "      cursor: pointer;\n",
              "      display: none;\n",
              "      fill: #1967D2;\n",
              "      height: 32px;\n",
              "      padding: 0 0 0 0;\n",
              "      width: 32px;\n",
              "    }\n",
              "\n",
              "    .colab-df-convert:hover {\n",
              "      background-color: #E2EBFA;\n",
              "      box-shadow: 0px 1px 2px rgba(60, 64, 67, 0.3), 0px 1px 3px 1px rgba(60, 64, 67, 0.15);\n",
              "      fill: #174EA6;\n",
              "    }\n",
              "\n",
              "    .colab-df-buttons div {\n",
              "      margin-bottom: 4px;\n",
              "    }\n",
              "\n",
              "    [theme=dark] .colab-df-convert {\n",
              "      background-color: #3B4455;\n",
              "      fill: #D2E3FC;\n",
              "    }\n",
              "\n",
              "    [theme=dark] .colab-df-convert:hover {\n",
              "      background-color: #434B5C;\n",
              "      box-shadow: 0px 1px 3px 1px rgba(0, 0, 0, 0.15);\n",
              "      filter: drop-shadow(0px 1px 2px rgba(0, 0, 0, 0.3));\n",
              "      fill: #FFFFFF;\n",
              "    }\n",
              "  </style>\n",
              "\n",
              "    <script>\n",
              "      const buttonEl =\n",
              "        document.querySelector('#df-a0ad60c2-4197-45a9-b322-bb95e892b4b8 button.colab-df-convert');\n",
              "      buttonEl.style.display =\n",
              "        google.colab.kernel.accessAllowed ? 'block' : 'none';\n",
              "\n",
              "      async function convertToInteractive(key) {\n",
              "        const element = document.querySelector('#df-a0ad60c2-4197-45a9-b322-bb95e892b4b8');\n",
              "        const dataTable =\n",
              "          await google.colab.kernel.invokeFunction('convertToInteractive',\n",
              "                                                    [key], {});\n",
              "        if (!dataTable) return;\n",
              "\n",
              "        const docLinkHtml = 'Like what you see? Visit the ' +\n",
              "          '<a target=\"_blank\" href=https://colab.research.google.com/notebooks/data_table.ipynb>data table notebook</a>'\n",
              "          + ' to learn more about interactive tables.';\n",
              "        element.innerHTML = '';\n",
              "        dataTable['output_type'] = 'display_data';\n",
              "        await google.colab.output.renderOutput(dataTable, element);\n",
              "        const docLink = document.createElement('div');\n",
              "        docLink.innerHTML = docLinkHtml;\n",
              "        element.appendChild(docLink);\n",
              "      }\n",
              "    </script>\n",
              "  </div>\n",
              "\n",
              "\n",
              "<div id=\"df-48413fce-b525-46be-81c1-cc20b745ec7b\">\n",
              "  <button class=\"colab-df-quickchart\" onclick=\"quickchart('df-48413fce-b525-46be-81c1-cc20b745ec7b')\"\n",
              "            title=\"Suggest charts\"\n",
              "            style=\"display:none;\">\n",
              "\n",
              "<svg xmlns=\"http://www.w3.org/2000/svg\" height=\"24px\"viewBox=\"0 0 24 24\"\n",
              "     width=\"24px\">\n",
              "    <g>\n",
              "        <path d=\"M19 3H5c-1.1 0-2 .9-2 2v14c0 1.1.9 2 2 2h14c1.1 0 2-.9 2-2V5c0-1.1-.9-2-2-2zM9 17H7v-7h2v7zm4 0h-2V7h2v10zm4 0h-2v-4h2v4z\"/>\n",
              "    </g>\n",
              "</svg>\n",
              "  </button>\n",
              "\n",
              "<style>\n",
              "  .colab-df-quickchart {\n",
              "      --bg-color: #E8F0FE;\n",
              "      --fill-color: #1967D2;\n",
              "      --hover-bg-color: #E2EBFA;\n",
              "      --hover-fill-color: #174EA6;\n",
              "      --disabled-fill-color: #AAA;\n",
              "      --disabled-bg-color: #DDD;\n",
              "  }\n",
              "\n",
              "  [theme=dark] .colab-df-quickchart {\n",
              "      --bg-color: #3B4455;\n",
              "      --fill-color: #D2E3FC;\n",
              "      --hover-bg-color: #434B5C;\n",
              "      --hover-fill-color: #FFFFFF;\n",
              "      --disabled-bg-color: #3B4455;\n",
              "      --disabled-fill-color: #666;\n",
              "  }\n",
              "\n",
              "  .colab-df-quickchart {\n",
              "    background-color: var(--bg-color);\n",
              "    border: none;\n",
              "    border-radius: 50%;\n",
              "    cursor: pointer;\n",
              "    display: none;\n",
              "    fill: var(--fill-color);\n",
              "    height: 32px;\n",
              "    padding: 0;\n",
              "    width: 32px;\n",
              "  }\n",
              "\n",
              "  .colab-df-quickchart:hover {\n",
              "    background-color: var(--hover-bg-color);\n",
              "    box-shadow: 0 1px 2px rgba(60, 64, 67, 0.3), 0 1px 3px 1px rgba(60, 64, 67, 0.15);\n",
              "    fill: var(--button-hover-fill-color);\n",
              "  }\n",
              "\n",
              "  .colab-df-quickchart-complete:disabled,\n",
              "  .colab-df-quickchart-complete:disabled:hover {\n",
              "    background-color: var(--disabled-bg-color);\n",
              "    fill: var(--disabled-fill-color);\n",
              "    box-shadow: none;\n",
              "  }\n",
              "\n",
              "  .colab-df-spinner {\n",
              "    border: 2px solid var(--fill-color);\n",
              "    border-color: transparent;\n",
              "    border-bottom-color: var(--fill-color);\n",
              "    animation:\n",
              "      spin 1s steps(1) infinite;\n",
              "  }\n",
              "\n",
              "  @keyframes spin {\n",
              "    0% {\n",
              "      border-color: transparent;\n",
              "      border-bottom-color: var(--fill-color);\n",
              "      border-left-color: var(--fill-color);\n",
              "    }\n",
              "    20% {\n",
              "      border-color: transparent;\n",
              "      border-left-color: var(--fill-color);\n",
              "      border-top-color: var(--fill-color);\n",
              "    }\n",
              "    30% {\n",
              "      border-color: transparent;\n",
              "      border-left-color: var(--fill-color);\n",
              "      border-top-color: var(--fill-color);\n",
              "      border-right-color: var(--fill-color);\n",
              "    }\n",
              "    40% {\n",
              "      border-color: transparent;\n",
              "      border-right-color: var(--fill-color);\n",
              "      border-top-color: var(--fill-color);\n",
              "    }\n",
              "    60% {\n",
              "      border-color: transparent;\n",
              "      border-right-color: var(--fill-color);\n",
              "    }\n",
              "    80% {\n",
              "      border-color: transparent;\n",
              "      border-right-color: var(--fill-color);\n",
              "      border-bottom-color: var(--fill-color);\n",
              "    }\n",
              "    90% {\n",
              "      border-color: transparent;\n",
              "      border-bottom-color: var(--fill-color);\n",
              "    }\n",
              "  }\n",
              "</style>\n",
              "\n",
              "  <script>\n",
              "    async function quickchart(key) {\n",
              "      const quickchartButtonEl =\n",
              "        document.querySelector('#' + key + ' button');\n",
              "      quickchartButtonEl.disabled = true;  // To prevent multiple clicks.\n",
              "      quickchartButtonEl.classList.add('colab-df-spinner');\n",
              "      try {\n",
              "        const charts = await google.colab.kernel.invokeFunction(\n",
              "            'suggestCharts', [key], {});\n",
              "      } catch (error) {\n",
              "        console.error('Error during call to suggestCharts:', error);\n",
              "      }\n",
              "      quickchartButtonEl.classList.remove('colab-df-spinner');\n",
              "      quickchartButtonEl.classList.add('colab-df-quickchart-complete');\n",
              "    }\n",
              "    (() => {\n",
              "      let quickchartButtonEl =\n",
              "        document.querySelector('#df-48413fce-b525-46be-81c1-cc20b745ec7b button');\n",
              "      quickchartButtonEl.style.display =\n",
              "        google.colab.kernel.accessAllowed ? 'block' : 'none';\n",
              "    })();\n",
              "  </script>\n",
              "</div>\n",
              "\n",
              "    </div>\n",
              "  </div>\n"
            ],
            "application/vnd.google.colaboratory.intrinsic+json": {
              "type": "dataframe",
              "variable_name": "data",
              "summary": "{\n  \"name\": \"data\",\n  \"rows\": 74,\n  \"fields\": [\n    {\n      \"column\": \"Order ID\",\n      \"properties\": {\n        \"dtype\": \"number\",\n        \"std\": 3.8944404818493075,\n        \"min\": 1001.0,\n        \"max\": 1013.0,\n        \"num_unique_values\": 13,\n        \"samples\": [\n          1012.0,\n          1010.0,\n          1001.0\n        ],\n        \"semantic_type\": \"\",\n        \"description\": \"\"\n      }\n    },\n    {\n      \"column\": \"Region\",\n      \"properties\": {\n        \"dtype\": \"category\",\n        \"num_unique_values\": 4,\n        \"samples\": [\n          \"South\",\n          \"West\",\n          \"North\"\n        ],\n        \"semantic_type\": \"\",\n        \"description\": \"\"\n      }\n    },\n    {\n      \"column\": \"Product Category\",\n      \"properties\": {\n        \"dtype\": \"category\",\n        \"num_unique_values\": 3,\n        \"samples\": [\n          \"Electronics\",\n          \"Furniture\",\n          \"Office Supplies\"\n        ],\n        \"semantic_type\": \"\",\n        \"description\": \"\"\n      }\n    },\n    {\n      \"column\": \"Sales Amount\",\n      \"properties\": {\n        \"dtype\": \"number\",\n        \"std\": 582.8752780343234,\n        \"min\": 500.0,\n        \"max\": 2500.0,\n        \"num_unique_values\": 13,\n        \"samples\": [\n          1300.0,\n          900.0,\n          1500.0\n        ],\n        \"semantic_type\": \"\",\n        \"description\": \"\"\n      }\n    },\n    {\n      \"column\": \"Cost\",\n      \"properties\": {\n        \"dtype\": \"number\",\n        \"std\": 458.64208714700845,\n        \"min\": 300.0,\n        \"max\": 1900.0,\n        \"num_unique_values\": 12,\n        \"samples\": [\n          850.0,\n          700.0,\n          1000.0\n        ],\n        \"semantic_type\": \"\",\n        \"description\": \"\"\n      }\n    },\n    {\n      \"column\": \"Profit\",\n      \"properties\": {\n        \"dtype\": \"number\",\n        \"std\": 139.71124066885514,\n        \"min\": 150.0,\n        \"max\": 600.0,\n        \"num_unique_values\": 7,\n        \"samples\": [\n          500.0,\n          200.0,\n          250.0\n        ],\n        \"semantic_type\": \"\",\n        \"description\": \"\"\n      }\n    },\n    {\n      \"column\": \"Order Date\",\n      \"properties\": {\n        \"dtype\": \"date\",\n        \"min\": \"2023-06-01 00:00:00\",\n        \"max\": \"2023-07-01 00:00:00\",\n        \"num_unique_values\": 13,\n        \"samples\": [\n          \"2023-06-30 00:00:00\",\n          \"2023-06-25 00:00:00\",\n          \"2023-06-01 00:00:00\"\n        ],\n        \"semantic_type\": \"\",\n        \"description\": \"\"\n      }\n    },\n    {\n      \"column\": \"Customer Segment\",\n      \"properties\": {\n        \"dtype\": \"category\",\n        \"num_unique_values\": 3,\n        \"samples\": [\n          \"Corporate\",\n          \"Small Business\",\n          \"Consumer\"\n        ],\n        \"semantic_type\": \"\",\n        \"description\": \"\"\n      }\n    },\n    {\n      \"column\": \"Unnamed: 8\",\n      \"properties\": {\n        \"dtype\": \"number\",\n        \"std\": null,\n        \"min\": null,\n        \"max\": null,\n        \"num_unique_values\": 0,\n        \"samples\": [],\n        \"semantic_type\": \"\",\n        \"description\": \"\"\n      }\n    },\n    {\n      \"column\": \"Data Summarization:\",\n      \"properties\": {\n        \"dtype\": \"string\",\n        \"num_unique_values\": 45,\n        \"samples\": [],\n        \"semantic_type\": \"\",\n        \"description\": \"\"\n      }\n    },\n    {\n      \"column\": \"Unnamed: 10\",\n      \"properties\": {\n        \"dtype\": \"string\",\n        \"num_unique_values\": 40,\n        \"samples\": [],\n        \"semantic_type\": \"\",\n        \"description\": \"\"\n      }\n    },\n    {\n      \"column\": \"Unnamed: 11\",\n      \"properties\": {\n        \"dtype\": \"category\",\n        \"num_unique_values\": 35,\n        \"samples\": [],\n        \"semantic_type\": \"\",\n        \"description\": \"\"\n      }\n    },\n    {\n      \"column\": \"Unnamed: 12\",\n      \"properties\": {\n        \"dtype\": \"category\",\n        \"num_unique_values\": 32,\n        \"samples\": [],\n        \"semantic_type\": \"\",\n        \"description\": \"\"\n      }\n    },\n    {\n      \"column\": \"Unnamed: 13\",\n      \"properties\": {\n        \"dtype\": \"category\",\n        \"num_unique_values\": 5,\n        \"samples\": [],\n        \"semantic_type\": \"\",\n        \"description\": \"\"\n      }\n    }\n  ]\n}"
            }
          },
          "metadata": {},
          "execution_count": 1
        }
      ],
      "source": [
        "import pandas as pd\n",
        "from google.colab import files\n",
        "pd.options.mode.chained_assignment = None  # default='warn'\n",
        "\n",
        "# Upload the file\n",
        "uploaded = files.upload()\n",
        "\n",
        "# Load the dataset\n",
        "file_path = 'Test data.xlsx'\n",
        "data = pd.read_excel(file_path, sheet_name='Sheet1')\n",
        "\n",
        "# Inspect the first few rows\n",
        "data.head()\n"
      ]
    },
    {
      "cell_type": "markdown",
      "metadata": {
        "id": "Oh4D9jxW-4eQ"
      },
      "source": [
        "# 2. ***Data Cleaning***\n",
        "**Here we will take two steps with cleaning our data**\n",
        "1. Drop Unnecessary Columns\n",
        "2. Identify and Handle Missing Values\n"
      ]
    },
    {
      "cell_type": "code",
      "execution_count": 2,
      "metadata": {
        "colab": {
          "base_uri": "https://localhost:8080/"
        },
        "id": "8OYNg2_z_bgD",
        "outputId": "d20d969e-056e-465d-a3c7-78e916285bfa"
      },
      "outputs": [
        {
          "output_type": "stream",
          "name": "stdout",
          "text": [
            "Order ID                0\n",
            "Region                  0\n",
            "Product Category        0\n",
            "Sales Amount            0\n",
            "Cost                    0\n",
            "Profit                  0\n",
            "Order Date              0\n",
            "Customer Segment        0\n",
            "Unnamed: 8             13\n",
            "Data Summarization:     2\n",
            "Unnamed: 10             4\n",
            "Unnamed: 11             4\n",
            "Unnamed: 12             4\n",
            "Unnamed: 13             7\n",
            "dtype: int64\n"
          ]
        }
      ],
      "source": [
        "# Drop columns that are not relevant\n",
        "data_cleaned = data.dropna(subset=['Order ID', 'Region', 'Product Category', 'Sales Amount', 'Cost', 'Profit', 'Order Date'])\n",
        "\n",
        "# Check for any remaining missing values\n",
        "print(data_cleaned.isnull().sum())\n"
      ]
    },
    {
      "cell_type": "markdown",
      "metadata": {
        "id": "KsSe7bwc_g66"
      },
      "source": [
        "# 3. ***Data Summarization***\n",
        "\n",
        "> **Note**\n",
        "\n",
        "*Every step I'm taking in Data Summarization has its code underneath it*\n",
        "\n",
        "> 1. Summarize Sales and Profit by Region\n",
        "\n",
        "*   Calculate total sales, total profit, and average sales per region\n",
        "\n",
        "\n"
      ]
    },
    {
      "cell_type": "code",
      "execution_count": 3,
      "metadata": {
        "colab": {
          "base_uri": "https://localhost:8080/"
        },
        "id": "UGFg5Z6MAnRw",
        "outputId": "830ada8b-6706-4721-ea51-7fa7bf550a82"
      },
      "outputs": [
        {
          "output_type": "stream",
          "name": "stdout",
          "text": [
            "  Region  total_sales  total_profit    avg_sales\n",
            "0   East       3200.0         900.0  1066.666667\n",
            "1  North       4800.0        1350.0  1200.000000\n",
            "2  South       3700.0         800.0  1233.333333\n",
            "3   West       4100.0         950.0  1366.666667\n"
          ]
        }
      ],
      "source": [
        "# Summarize total sales, total profit, and average sales by region\n",
        "region_summary = data_cleaned.groupby('Region').agg(\n",
        "    total_sales=('Sales Amount', 'sum'),\n",
        "    total_profit=('Profit', 'sum'),\n",
        "    avg_sales=('Sales Amount', 'mean')\n",
        ").reset_index()\n",
        "\n",
        "print(region_summary)"
      ]
    },
    {
      "cell_type": "markdown",
      "metadata": {
        "id": "745uvZfKBE-n"
      },
      "source": [
        "> 2. Summarize Sales and Profit by Region\n",
        "\n",
        "*   Calculate total sales and profit by product category.\n"
      ]
    },
    {
      "cell_type": "code",
      "execution_count": 4,
      "metadata": {
        "colab": {
          "base_uri": "https://localhost:8080/"
        },
        "id": "8Fk7XQUeBJ4q",
        "outputId": "015ea92c-0617-4913-d79e-168fb70cb0f7"
      },
      "outputs": [
        {
          "output_type": "stream",
          "name": "stdout",
          "text": [
            "  Product Category  total_sales  total_profit\n",
            "0      Electronics       8900.0        2200.0\n",
            "1        Furniture       3600.0        1000.0\n",
            "2  Office Supplies       3300.0         800.0\n"
          ]
        }
      ],
      "source": [
        "# Summarize total sales and profit by product category\n",
        "product_summary = data_cleaned.groupby('Product Category').agg(\n",
        "    total_sales=('Sales Amount', 'sum'),\n",
        "    total_profit=('Profit', 'sum')\n",
        ").reset_index()\n",
        "\n",
        "print(product_summary)\n"
      ]
    },
    {
      "cell_type": "markdown",
      "metadata": {
        "id": "a_xQ-p29BM9q"
      },
      "source": [
        "> 3. Calculate Overall Profit Margin\n",
        "\n",
        "*   Adding a column for profit margin and calculating the average.\n"
      ]
    },
    {
      "cell_type": "code",
      "execution_count": 5,
      "metadata": {
        "colab": {
          "base_uri": "https://localhost:8080/"
        },
        "id": "LIJS_GA8BYuw",
        "outputId": "8b5e5e45-081d-4ed6-8f17-61fe0716e42f"
      },
      "outputs": [
        {
          "output_type": "stream",
          "name": "stdout",
          "text": [
            "Overall Average Profit Margin: 26.17%\n"
          ]
        }
      ],
      "source": [
        "# Calculate profit margin for each order\n",
        "data_cleaned['Profit Margin'] = data_cleaned['Profit'] / data_cleaned['Sales Amount']\n",
        "\n",
        "# Calculate overall average profit margin\n",
        "overall_avg_profit_margin = data_cleaned['Profit Margin'].mean()\n",
        "print(f\"Overall Average Profit Margin: {overall_avg_profit_margin:.2%}\")\n"
      ]
    },
    {
      "cell_type": "markdown",
      "metadata": {
        "id": "w_Ut2XX9BiGy"
      },
      "source": [
        "# 4. ***Trend Analysis***\n",
        "\n",
        "> **Note**\n",
        "\n",
        "*Every step I'm taking in Trend Analysis has its code underneath it*\n",
        "\n",
        "> 1. Analyze Sales Trends by Customer Segment:\n",
        "\n",
        "*   Group data by customer segment to see which one contributes the most.\n"
      ]
    },
    {
      "cell_type": "code",
      "execution_count": 6,
      "metadata": {
        "colab": {
          "base_uri": "https://localhost:8080/"
        },
        "id": "6wv5D7MyB2sD",
        "outputId": "fb25fa26-46e5-47a4-d1a1-bc1cb9d4dfae"
      },
      "outputs": [
        {
          "output_type": "stream",
          "name": "stdout",
          "text": [
            "  Customer Segment  total_sales  total_profit\n",
            "0         Consumer       4600.0        1150.0\n",
            "1        Corporate       7500.0        2050.0\n",
            "2   Small Business       3700.0         800.0\n"
          ]
        }
      ],
      "source": [
        "# Sales trends by customer segment\n",
        "segment_summary = data_cleaned.groupby('Customer Segment').agg(\n",
        "    total_sales=('Sales Amount', 'sum'),\n",
        "    total_profit=('Profit', 'sum')\n",
        ").reset_index()\n",
        "\n",
        "print(segment_summary)"
      ]
    },
    {
      "cell_type": "markdown",
      "metadata": {
        "id": "sB0PaBXqB_F7"
      },
      "source": [
        "> 2. Sales Trends Over Time\n",
        "\n",
        "*   Check for any time-based trends in sales."
      ]
    },
    {
      "cell_type": "code",
      "execution_count": 7,
      "metadata": {
        "colab": {
          "base_uri": "https://localhost:8080/"
        },
        "id": "fVaCjEDzCI5Q",
        "outputId": "2326aa40-56a5-4968-a73a-a4bc9dfcb98a"
      },
      "outputs": [
        {
          "output_type": "stream",
          "name": "stdout",
          "text": [
            "   Month  Sales Amount\n",
            "0      6       13300.0\n",
            "1      7        2500.0\n"
          ]
        }
      ],
      "source": [
        "# Convert 'Order Date' to datetime if needed\n",
        "data_cleaned['Order Date'] = pd.to_datetime(data_cleaned['Order Date'])\n",
        "\n",
        "# Extract month or use date to see trends\n",
        "data_cleaned['Month'] = data_cleaned['Order Date'].dt.month\n",
        "monthly_sales = data_cleaned.groupby('Month')['Sales Amount'].sum().reset_index()\n",
        "\n",
        "print(monthly_sales)\n"
      ]
    },
    {
      "cell_type": "markdown",
      "metadata": {
        "id": "sSM5WgeHCMaD"
      },
      "source": [
        "# 5. ***Insights and Recommendations***\n",
        "\n",
        "> Provide a detailed analysis answering the following questions:\n",
        "\n",
        "1.   Which region is the top performer in terms of total sales and profit?\n",
        "\n",
        "2. Which product category has the highest sales and profit margin?\n",
        "\n",
        "3. Which customer segment is the most profitable?\n",
        "\n",
        "4. Are there any underperforming regions or product categories that the business should focus on improving?\n",
        "\n",
        "5. Suggest actionable recommendations based on your analysis (e.g., focus more marketing efforts in the North region, promote office supplies in the East, etc.)."
      ]
    },
    {
      "cell_type": "markdown",
      "metadata": {
        "id": "fb43hucgEplx"
      },
      "source": [
        "1.   Which region is the top performer in terms of total sales and profit?\n",
        "\n",
        "> To determine the top-performing region in terms of total sales and profit\n",
        "\n"
      ]
    },
    {
      "cell_type": "code",
      "execution_count": 8,
      "metadata": {
        "colab": {
          "base_uri": "https://localhost:8080/"
        },
        "id": "6K7rZGj8Emp6",
        "outputId": "6f3d78ac-7d11-45a6-f684-12205ebc474c"
      },
      "outputs": [
        {
          "output_type": "stream",
          "name": "stdout",
          "text": [
            "Top Region by Sales: North with 4800.0\n",
            "Top Region by Profit: North with 1350.0\n"
          ]
        }
      ],
      "source": [
        "# Calculate total sales and profit by region\n",
        "region_summary = data_cleaned.groupby('Region').agg(\n",
        "    total_sales=('Sales Amount', 'sum'),\n",
        "    total_profit=('Profit', 'sum')\n",
        ").reset_index()\n",
        "\n",
        "# Find the region with the highest total sales and profit\n",
        "top_sales_region = region_summary.loc[region_summary['total_sales'].idxmax()]\n",
        "top_profit_region = region_summary.loc[region_summary['total_profit'].idxmax()]\n",
        "\n",
        "print(f\"Top Region by Sales: {top_sales_region['Region']} with {top_sales_region['total_sales']}\")\n",
        "print(f\"Top Region by Profit: {top_profit_region['Region']} with {top_profit_region['total_profit']}\")\n"
      ]
    },
    {
      "cell_type": "markdown",
      "metadata": {
        "id": "AoKoC-zcE_SQ"
      },
      "source": [
        "2. Which product category has the highest sales and profit margin?\n",
        "\n",
        "> To find the best-performing product category with the highest sales and profit margin"
      ]
    },
    {
      "cell_type": "code",
      "execution_count": 9,
      "metadata": {
        "colab": {
          "base_uri": "https://localhost:8080/"
        },
        "id": "CnPX-638FAHX",
        "outputId": "1751b6df-6f3f-4b01-c322-a26b322cd0a8"
      },
      "outputs": [
        {
          "output_type": "stream",
          "name": "stdout",
          "text": [
            "Top Product Category by Sales: Electronics with 8900.0\n",
            "Top Product Category by Profit Margin: Furniture with 28.94%\n"
          ]
        }
      ],
      "source": [
        "# Summarize sales and calculate profit margin by product category\n",
        "data_cleaned['Profit Margin'] = data_cleaned['Profit'] / data_cleaned['Sales Amount']\n",
        "product_summary = data_cleaned.groupby('Product Category').agg(\n",
        "    total_sales=('Sales Amount', 'sum'),\n",
        "    total_profit=('Profit', 'sum'),\n",
        "    avg_profit_margin=('Profit Margin', 'mean')\n",
        ").reset_index()\n",
        "\n",
        "# Find the product category with highest sales and highest profit margin\n",
        "top_sales_category = product_summary.loc[product_summary['total_sales'].idxmax()]\n",
        "top_margin_category = product_summary.loc[product_summary['avg_profit_margin'].idxmax()]\n",
        "\n",
        "print(f\"Top Product Category by Sales: {top_sales_category['Product Category']} with {top_sales_category['total_sales']}\")\n",
        "print(f\"Top Product Category by Profit Margin: {top_margin_category['Product Category']} with {top_margin_category['avg_profit_margin']:.2%}\")\n"
      ]
    },
    {
      "cell_type": "markdown",
      "metadata": {
        "id": "1ml26797FAhw"
      },
      "source": [
        "3.   Which customer segment is the most profitable?\n",
        "\n",
        "> To identify the most profitable customer segment"
      ]
    },
    {
      "cell_type": "code",
      "execution_count": 10,
      "metadata": {
        "colab": {
          "base_uri": "https://localhost:8080/"
        },
        "id": "WmoTAnT3FBMQ",
        "outputId": "e4db395d-9d4a-4f7d-de07-72bda6a05193"
      },
      "outputs": [
        {
          "output_type": "stream",
          "name": "stdout",
          "text": [
            "Most Profitable Customer Segment: Corporate with 2050.0\n"
          ]
        }
      ],
      "source": [
        "# Calculate total profit by customer segment\n",
        "segment_summary = data_cleaned.groupby('Customer Segment').agg(\n",
        "    total_sales=('Sales Amount', 'sum'),\n",
        "    total_profit=('Profit', 'sum')\n",
        ").reset_index()\n",
        "\n",
        "# Find the customer segment with the highest total profit\n",
        "most_profitable_segment = segment_summary.loc[segment_summary['total_profit'].idxmax()]\n",
        "\n",
        "print(f\"Most Profitable Customer Segment: {most_profitable_segment['Customer Segment']} with {most_profitable_segment['total_profit']}\")\n"
      ]
    },
    {
      "cell_type": "markdown",
      "metadata": {
        "id": "wL_oPMM7FBhJ"
      },
      "source": [
        "4.   Are there any underperforming regions or product categories that the business should focus on improving?\n",
        "\n",
        "> To determine the underperforming regions or product categories"
      ]
    },
    {
      "cell_type": "code",
      "execution_count": 11,
      "metadata": {
        "colab": {
          "base_uri": "https://localhost:8080/"
        },
        "id": "ESFByTmmFCIR",
        "outputId": "8d3fb962-f2cf-4665-b65e-344ff99339f0"
      },
      "outputs": [
        {
          "output_type": "stream",
          "name": "stdout",
          "text": [
            "Underperforming Regions:\n",
            "  Region  total_sales  total_profit\n",
            "0   East       3200.0         900.0\n",
            "2  South       3700.0         800.0\n",
            "Underperforming Product Categories:\n",
            "  Product Category  total_sales  total_profit  avg_profit_margin\n",
            "1        Furniture       3600.0        1000.0           0.289423\n",
            "2  Office Supplies       3300.0         800.0           0.246302\n"
          ]
        }
      ],
      "source": [
        "# Check regions and categories with low sales and profit\n",
        "underperforming_regions = region_summary[region_summary['total_sales'] < region_summary['total_sales'].mean()]\n",
        "underperforming_categories = product_summary[product_summary['total_sales'] < product_summary['total_sales'].mean()]\n",
        "\n",
        "print(\"Underperforming Regions:\")\n",
        "print(underperforming_regions)\n",
        "\n",
        "print(\"Underperforming Product Categories:\")\n",
        "print(underperforming_categories)\n"
      ]
    },
    {
      "cell_type": "markdown",
      "metadata": {
        "id": "XlcK4l6FFCoA"
      },
      "source": [
        "# ***Actionable Recommendations***\n",
        "\n",
        "\n",
        "\n",
        "---\n",
        "\n",
        "\n",
        "\n",
        "\n",
        "> **Key Insights**\n",
        "\n",
        "1. Monthly Sales Trend Analysis:\n",
        "  * Significant Drop in July: There's a significant drop in sales from June to July.\n",
        "  * Potential Reasons:\n",
        "    * Seasonal factors (e.g., summer holidays, slower business activity)\n",
        "    * Marketing campaign effectiveness\n",
        "    * Product availability or supply chain issues\n",
        "    * Economic factors\n",
        "\n",
        "2. **Regional Performance:**\n",
        "\n",
        "  * The North region is the top performer in both total sales and profit.\n",
        "     The East and South regions appear to be underperforming compared to the North.\n",
        "\n",
        "3. **Product Category Performance:**\n",
        "\n",
        "  * Electronics is the top-selling product category.\n",
        "  * Furniture has the highest profit margin.\n",
        "  * Office Supplies and Furniture might be underperforming in terms of profit margins.\n",
        "\n",
        "4. **Customer Segment Performance:**\n",
        "\n",
        "  * The Corporate segment is the most profitable.\n",
        "\n",
        "\n",
        "\n",
        "---\n",
        "\n",
        "\n",
        "> **Based on the analysis and findings, the following recommendations can be considered:**\n",
        "\n",
        "1. **Focus on Trend Analysis key findings:**\n",
        "  * Analyze Seasonal Trends: Identify seasonal patterns and adjust marketing and inventory strategies accordingly.\n",
        "  * Evaluate Marketing Campaigns: Assess the impact of marketing campaigns during the analyzed period. Consider refining strategies for future campaigns.\n",
        "  * Review Product Availability: Ensure consistent product availability to avoid stockouts and lost sales.\n",
        "  * Monitor Economic Indicators: Stay informed about economic trends and adjust business plans as needed.\n",
        "2. **Focus on Underperforming Regions:**\n",
        "\n",
        "  * East and South: We can Implement targeted marketing strategies and explore potential product offerings to boost sales and profitability in these regions.\n",
        "\n",
        "3. **Optimize Product Categories**\n",
        "\n",
        "   * Office Supplies and Furniture: While Furniture has a high profit margin, its overall sales are lower. So Consider promotional offers or targeted marketing to increase sales.\n",
        "   * Electronics: Continue to capitalize on the strong performance of this category, possibly through bundling or cross-selling strategies.\n",
        "\n",
        "4. **Leverage the Most Profitable Segment:**\n",
        "\n",
        "     * Corporate: Focus on retaining and expanding this segment by offering tailored solutions and excellent customer service. Also we can Implement loyalty programs or special offers to further incentivize corporate clients.\n",
        "\n",
        "\n",
        "\n",
        "\n",
        "\n",
        "\n",
        "\n",
        "\n",
        "\n"
      ]
    }
  ],
  "metadata": {
    "colab": {
      "provenance": [],
      "authorship_tag": "ABX9TyOtyNoyRgINUFUjHUeL/HKA",
      "include_colab_link": true
    },
    "kernelspec": {
      "display_name": "Python 3",
      "name": "python3"
    },
    "language_info": {
      "name": "python"
    }
  },
  "nbformat": 4,
  "nbformat_minor": 0
}